{
 "cells": [
  {
   "cell_type": "markdown",
   "metadata": {
    "toc": true
   },
   "source": [
    "<h1>Table of Contents<span class=\"tocSkip\"></span></h1>\n",
    "<div class=\"toc\"><ul class=\"toc-item\"></ul></div>"
   ]
  },
  {
   "cell_type": "code",
   "execution_count": 1,
   "metadata": {},
   "outputs": [],
   "source": [
    "import pandas as pd\n",
    "import numpy as np\n",
    "import matplotlib.pyplot as plt\n",
    "%matplotlib inline"
   ]
  },
  {
   "cell_type": "code",
   "execution_count": 5,
   "metadata": {
    "scrolled": true
   },
   "outputs": [],
   "source": [
    "customers = pd.read_csv('Customer Details.csv')\n",
    "renewals = pd.read_csv('Renewal Details.csv')"
   ]
  },
  {
   "cell_type": "code",
   "execution_count": 6,
   "metadata": {},
   "outputs": [
    {
     "data": {
      "text/html": [
       "<div>\n",
       "<style scoped>\n",
       "    .dataframe tbody tr th:only-of-type {\n",
       "        vertical-align: middle;\n",
       "    }\n",
       "\n",
       "    .dataframe tbody tr th {\n",
       "        vertical-align: top;\n",
       "    }\n",
       "\n",
       "    .dataframe thead th {\n",
       "        text-align: right;\n",
       "    }\n",
       "</style>\n",
       "<table border=\"1\" class=\"dataframe\">\n",
       "  <thead>\n",
       "    <tr style=\"text-align: right;\">\n",
       "      <th></th>\n",
       "      <th>Customer_ID</th>\n",
       "      <th>Renewal_or_Non-renewal_Date</th>\n",
       "      <th>Zip_Code_Distance_From_Stadium</th>\n",
       "      <th>Tenure_As_Season_Ticket_Member</th>\n",
       "    </tr>\n",
       "  </thead>\n",
       "  <tbody>\n",
       "    <tr>\n",
       "      <th>0</th>\n",
       "      <td>262688</td>\n",
       "      <td>9/4/2013</td>\n",
       "      <td>37.556232</td>\n",
       "      <td>1</td>\n",
       "    </tr>\n",
       "    <tr>\n",
       "      <th>1</th>\n",
       "      <td>262688</td>\n",
       "      <td>8/4/2014</td>\n",
       "      <td>37.556232</td>\n",
       "      <td>2</td>\n",
       "    </tr>\n",
       "    <tr>\n",
       "      <th>2</th>\n",
       "      <td>262719</td>\n",
       "      <td>7/16/2013</td>\n",
       "      <td>15.340993</td>\n",
       "      <td>1</td>\n",
       "    </tr>\n",
       "    <tr>\n",
       "      <th>3</th>\n",
       "      <td>262719</td>\n",
       "      <td>8/4/2014</td>\n",
       "      <td>15.340993</td>\n",
       "      <td>2</td>\n",
       "    </tr>\n",
       "    <tr>\n",
       "      <th>4</th>\n",
       "      <td>262782</td>\n",
       "      <td>7/16/2013</td>\n",
       "      <td>21.569895</td>\n",
       "      <td>8</td>\n",
       "    </tr>\n",
       "  </tbody>\n",
       "</table>\n",
       "</div>"
      ],
      "text/plain": [
       "   Customer_ID Renewal_or_Non-renewal_Date  Zip_Code_Distance_From_Stadium  \\\n",
       "0       262688                    9/4/2013                       37.556232   \n",
       "1       262688                    8/4/2014                       37.556232   \n",
       "2       262719                   7/16/2013                       15.340993   \n",
       "3       262719                    8/4/2014                       15.340993   \n",
       "4       262782                   7/16/2013                       21.569895   \n",
       "\n",
       "   Tenure_As_Season_Ticket_Member  \n",
       "0                               1  \n",
       "1                               2  \n",
       "2                               1  \n",
       "3                               2  \n",
       "4                               8  "
      ]
     },
     "execution_count": 6,
     "metadata": {},
     "output_type": "execute_result"
    }
   ],
   "source": [
    "customers.head()"
   ]
  },
  {
   "cell_type": "code",
   "execution_count": 8,
   "metadata": {},
   "outputs": [
    {
     "name": "stdout",
     "output_type": "stream",
     "text": [
      "<class 'pandas.core.frame.DataFrame'>\n",
      "RangeIndex: 3781 entries, 0 to 3780\n",
      "Data columns (total 4 columns):\n",
      "Customer_ID                       3781 non-null int64\n",
      "Renewal_or_Non-renewal_Date       3781 non-null object\n",
      "Zip_Code_Distance_From_Stadium    3701 non-null float64\n",
      "Tenure_As_Season_Ticket_Member    3781 non-null int64\n",
      "dtypes: float64(1), int64(2), object(1)\n",
      "memory usage: 118.2+ KB\n"
     ]
    }
   ],
   "source": [
    "customers.info()"
   ]
  },
  {
   "cell_type": "code",
   "execution_count": 10,
   "metadata": {},
   "outputs": [
    {
     "data": {
      "text/plain": [
       "Customer_ID                        0\n",
       "Renewal_or_Non-renewal_Date        0\n",
       "Zip_Code_Distance_From_Stadium    80\n",
       "Tenure_As_Season_Ticket_Member     0\n",
       "dtype: int64"
      ]
     },
     "execution_count": 10,
     "metadata": {},
     "output_type": "execute_result"
    }
   ],
   "source": [
    "customers.isna().sum()"
   ]
  },
  {
   "cell_type": "code",
   "execution_count": 7,
   "metadata": {},
   "outputs": [
    {
     "data": {
      "text/html": [
       "<div>\n",
       "<style scoped>\n",
       "    .dataframe tbody tr th:only-of-type {\n",
       "        vertical-align: middle;\n",
       "    }\n",
       "\n",
       "    .dataframe tbody tr th {\n",
       "        vertical-align: top;\n",
       "    }\n",
       "\n",
       "    .dataframe thead th {\n",
       "        text-align: right;\n",
       "    }\n",
       "</style>\n",
       "<table border=\"1\" class=\"dataframe\">\n",
       "  <thead>\n",
       "    <tr style=\"text-align: right;\">\n",
       "      <th></th>\n",
       "      <th>Customer_ID</th>\n",
       "      <th>Previous_Season</th>\n",
       "      <th>Renewal_Season</th>\n",
       "      <th>Renewal</th>\n",
       "      <th>Renewal_or_Non-renewal_Date</th>\n",
       "      <th>Average_Price_Paid_Per_Seat_Previous_Season</th>\n",
       "      <th>Total_Seats_Previous_Season</th>\n",
       "      <th>Team_Win_Pct_Previous_Season</th>\n",
       "      <th>Games_Attended_Previous_Season</th>\n",
       "      <th>Games_Missed_Previous_Season</th>\n",
       "      <th>Total_Games_Previous_Season</th>\n",
       "      <th>Non-Game_Events_Attended_Previous_Season</th>\n",
       "      <th>Phone_Calls_Made_to_Customer_Last_90_Days_Before_Renewal_Date</th>\n",
       "      <th>Live_Phone_Conversations_With_Customer_Last_90_Days_Before_Renewal_Date</th>\n",
       "      <th>Emails_Sent_Last_90_Days_Before_Renewal_Date</th>\n",
       "      <th>Section_Previous_Season</th>\n",
       "    </tr>\n",
       "  </thead>\n",
       "  <tbody>\n",
       "    <tr>\n",
       "      <th>0</th>\n",
       "      <td>262688</td>\n",
       "      <td>2012 Basketball Season Tickets</td>\n",
       "      <td>2013 Basketball Season Tickets</td>\n",
       "      <td>1</td>\n",
       "      <td>4-Sep-13</td>\n",
       "      <td>277.44</td>\n",
       "      <td>2</td>\n",
       "      <td>0.54</td>\n",
       "      <td>17</td>\n",
       "      <td>0</td>\n",
       "      <td>17</td>\n",
       "      <td>0</td>\n",
       "      <td>0</td>\n",
       "      <td>0</td>\n",
       "      <td>0</td>\n",
       "      <td>Reserved_Seats</td>\n",
       "    </tr>\n",
       "    <tr>\n",
       "      <th>1</th>\n",
       "      <td>262719</td>\n",
       "      <td>2012 Basketball Season Tickets</td>\n",
       "      <td>2013 Basketball Season Tickets</td>\n",
       "      <td>1</td>\n",
       "      <td>16-Jul-13</td>\n",
       "      <td>308.16</td>\n",
       "      <td>2</td>\n",
       "      <td>0.54</td>\n",
       "      <td>14</td>\n",
       "      <td>3</td>\n",
       "      <td>17</td>\n",
       "      <td>4</td>\n",
       "      <td>14</td>\n",
       "      <td>7</td>\n",
       "      <td>1</td>\n",
       "      <td>Reserved_Seats</td>\n",
       "    </tr>\n",
       "    <tr>\n",
       "      <th>2</th>\n",
       "      <td>262782</td>\n",
       "      <td>2012 Basketball Season Tickets</td>\n",
       "      <td>2013 Basketball Season Tickets</td>\n",
       "      <td>1</td>\n",
       "      <td>16-Jul-13</td>\n",
       "      <td>449.28</td>\n",
       "      <td>1</td>\n",
       "      <td>0.54</td>\n",
       "      <td>10</td>\n",
       "      <td>7</td>\n",
       "      <td>17</td>\n",
       "      <td>0</td>\n",
       "      <td>19</td>\n",
       "      <td>2</td>\n",
       "      <td>12</td>\n",
       "      <td>Reserved_Seats</td>\n",
       "    </tr>\n",
       "    <tr>\n",
       "      <th>3</th>\n",
       "      <td>263277</td>\n",
       "      <td>2012 Basketball Season Tickets</td>\n",
       "      <td>2013 Basketball Season Tickets</td>\n",
       "      <td>1</td>\n",
       "      <td>16-Jul-13</td>\n",
       "      <td>290.88</td>\n",
       "      <td>2</td>\n",
       "      <td>0.54</td>\n",
       "      <td>17</td>\n",
       "      <td>0</td>\n",
       "      <td>17</td>\n",
       "      <td>1</td>\n",
       "      <td>16</td>\n",
       "      <td>4</td>\n",
       "      <td>8</td>\n",
       "      <td>Reserved_Seats</td>\n",
       "    </tr>\n",
       "    <tr>\n",
       "      <th>4</th>\n",
       "      <td>263410</td>\n",
       "      <td>2012 Basketball Season Tickets</td>\n",
       "      <td>2013 Basketball Season Tickets</td>\n",
       "      <td>1</td>\n",
       "      <td>16-Jul-13</td>\n",
       "      <td>449.28</td>\n",
       "      <td>4</td>\n",
       "      <td>0.54</td>\n",
       "      <td>15</td>\n",
       "      <td>2</td>\n",
       "      <td>17</td>\n",
       "      <td>4</td>\n",
       "      <td>18</td>\n",
       "      <td>5</td>\n",
       "      <td>6</td>\n",
       "      <td>Reserved_Seats</td>\n",
       "    </tr>\n",
       "  </tbody>\n",
       "</table>\n",
       "</div>"
      ],
      "text/plain": [
       "   Customer_ID                 Previous_Season  \\\n",
       "0       262688  2012 Basketball Season Tickets   \n",
       "1       262719  2012 Basketball Season Tickets   \n",
       "2       262782  2012 Basketball Season Tickets   \n",
       "3       263277  2012 Basketball Season Tickets   \n",
       "4       263410  2012 Basketball Season Tickets   \n",
       "\n",
       "                   Renewal_Season  Renewal Renewal_or_Non-renewal_Date  \\\n",
       "0  2013 Basketball Season Tickets        1                    4-Sep-13   \n",
       "1  2013 Basketball Season Tickets        1                   16-Jul-13   \n",
       "2  2013 Basketball Season Tickets        1                   16-Jul-13   \n",
       "3  2013 Basketball Season Tickets        1                   16-Jul-13   \n",
       "4  2013 Basketball Season Tickets        1                   16-Jul-13   \n",
       "\n",
       "   Average_Price_Paid_Per_Seat_Previous_Season  Total_Seats_Previous_Season  \\\n",
       "0                                       277.44                            2   \n",
       "1                                       308.16                            2   \n",
       "2                                       449.28                            1   \n",
       "3                                       290.88                            2   \n",
       "4                                       449.28                            4   \n",
       "\n",
       "   Team_Win_Pct_Previous_Season  Games_Attended_Previous_Season  \\\n",
       "0                          0.54                              17   \n",
       "1                          0.54                              14   \n",
       "2                          0.54                              10   \n",
       "3                          0.54                              17   \n",
       "4                          0.54                              15   \n",
       "\n",
       "   Games_Missed_Previous_Season  Total_Games_Previous_Season  \\\n",
       "0                             0                           17   \n",
       "1                             3                           17   \n",
       "2                             7                           17   \n",
       "3                             0                           17   \n",
       "4                             2                           17   \n",
       "\n",
       "   Non-Game_Events_Attended_Previous_Season  \\\n",
       "0                                         0   \n",
       "1                                         4   \n",
       "2                                         0   \n",
       "3                                         1   \n",
       "4                                         4   \n",
       "\n",
       "   Phone_Calls_Made_to_Customer_Last_90_Days_Before_Renewal_Date  \\\n",
       "0                                                  0               \n",
       "1                                                 14               \n",
       "2                                                 19               \n",
       "3                                                 16               \n",
       "4                                                 18               \n",
       "\n",
       "   Live_Phone_Conversations_With_Customer_Last_90_Days_Before_Renewal_Date  \\\n",
       "0                                                  0                         \n",
       "1                                                  7                         \n",
       "2                                                  2                         \n",
       "3                                                  4                         \n",
       "4                                                  5                         \n",
       "\n",
       "   Emails_Sent_Last_90_Days_Before_Renewal_Date Section_Previous_Season  \n",
       "0                                             0          Reserved_Seats  \n",
       "1                                             1          Reserved_Seats  \n",
       "2                                            12          Reserved_Seats  \n",
       "3                                             8          Reserved_Seats  \n",
       "4                                             6          Reserved_Seats  "
      ]
     },
     "execution_count": 7,
     "metadata": {},
     "output_type": "execute_result"
    }
   ],
   "source": [
    "renewals.head()"
   ]
  },
  {
   "cell_type": "code",
   "execution_count": 9,
   "metadata": {},
   "outputs": [
    {
     "name": "stdout",
     "output_type": "stream",
     "text": [
      "<class 'pandas.core.frame.DataFrame'>\n",
      "RangeIndex: 3781 entries, 0 to 3780\n",
      "Data columns (total 16 columns):\n",
      "Customer_ID                                                                3781 non-null int64\n",
      "Previous_Season                                                            3781 non-null object\n",
      "Renewal_Season                                                             3781 non-null object\n",
      "Renewal                                                                    3781 non-null int64\n",
      "Renewal_or_Non-renewal_Date                                                3781 non-null object\n",
      "Average_Price_Paid_Per_Seat_Previous_Season                                3781 non-null float64\n",
      "Total_Seats_Previous_Season                                                3781 non-null int64\n",
      "Team_Win_Pct_Previous_Season                                               3781 non-null float64\n",
      "Games_Attended_Previous_Season                                             3781 non-null int64\n",
      "Games_Missed_Previous_Season                                               3781 non-null int64\n",
      "Total_Games_Previous_Season                                                3781 non-null int64\n",
      "Non-Game_Events_Attended_Previous_Season                                   3781 non-null int64\n",
      "Phone_Calls_Made_to_Customer_Last_90_Days_Before_Renewal_Date              3781 non-null int64\n",
      "Live_Phone_Conversations_With_Customer_Last_90_Days_Before_Renewal_Date    3781 non-null int64\n",
      "Emails_Sent_Last_90_Days_Before_Renewal_Date                               3781 non-null int64\n",
      "Section_Previous_Season                                                    3781 non-null object\n",
      "dtypes: float64(2), int64(10), object(4)\n",
      "memory usage: 472.7+ KB\n"
     ]
    }
   ],
   "source": [
    "renewals.info()"
   ]
  },
  {
   "cell_type": "code",
   "execution_count": 11,
   "metadata": {},
   "outputs": [
    {
     "data": {
      "text/plain": [
       "Customer_ID                                                                0\n",
       "Previous_Season                                                            0\n",
       "Renewal_Season                                                             0\n",
       "Renewal                                                                    0\n",
       "Renewal_or_Non-renewal_Date                                                0\n",
       "Average_Price_Paid_Per_Seat_Previous_Season                                0\n",
       "Total_Seats_Previous_Season                                                0\n",
       "Team_Win_Pct_Previous_Season                                               0\n",
       "Games_Attended_Previous_Season                                             0\n",
       "Games_Missed_Previous_Season                                               0\n",
       "Total_Games_Previous_Season                                                0\n",
       "Non-Game_Events_Attended_Previous_Season                                   0\n",
       "Phone_Calls_Made_to_Customer_Last_90_Days_Before_Renewal_Date              0\n",
       "Live_Phone_Conversations_With_Customer_Last_90_Days_Before_Renewal_Date    0\n",
       "Emails_Sent_Last_90_Days_Before_Renewal_Date                               0\n",
       "Section_Previous_Season                                                    0\n",
       "dtype: int64"
      ]
     },
     "execution_count": 11,
     "metadata": {},
     "output_type": "execute_result"
    }
   ],
   "source": [
    "renewals.isna().sum()"
   ]
  },
  {
   "cell_type": "code",
   "execution_count": 49,
   "metadata": {},
   "outputs": [
    {
     "name": "stdout",
     "output_type": "stream",
     "text": [
      "Previous_Season ---> object\n",
      "Renewal_Season ---> object\n",
      "Renewal_or_Non-renewal_Date ---> object\n",
      "Section_Previous_Season ---> object\n"
     ]
    }
   ],
   "source": [
    "for col in renewals.columns:\n",
    "    if renewals[col].dtype == 'object':\n",
    "        print(col, '--->', renewals[col].dtype)"
   ]
  },
  {
   "cell_type": "code",
   "execution_count": 52,
   "metadata": {},
   "outputs": [
    {
     "name": "stdout",
     "output_type": "stream",
     "text": [
      "['2012 Basketball Season Tickets', '2013 Basketball Season Tickets']\n",
      "['2013 Basketball Season Tickets', '2014 Basketball Season Tickets']\n",
      "['Reserved_Seats', 'Platinum_Club', 'General_Admission', 'Club_Level']\n"
     ]
    }
   ],
   "source": [
    "print(list(renewals.Previous_Season.unique()))\n",
    "print(list(renewals.Renewal_Season.unique()))\n",
    "print(list(renewals.Section_Previous_Season.unique()))"
   ]
  },
  {
   "cell_type": "code",
   "execution_count": null,
   "metadata": {},
   "outputs": [],
   "source": []
  },
  {
   "cell_type": "code",
   "execution_count": null,
   "metadata": {},
   "outputs": [],
   "source": []
  }
 ],
 "metadata": {
  "kernelspec": {
   "display_name": "Python 3",
   "language": "python",
   "name": "python3"
  },
  "language_info": {
   "codemirror_mode": {
    "name": "ipython",
    "version": 3
   },
   "file_extension": ".py",
   "mimetype": "text/x-python",
   "name": "python",
   "nbconvert_exporter": "python",
   "pygments_lexer": "ipython3",
   "version": "3.7.1"
  },
  "toc": {
   "base_numbering": 1,
   "nav_menu": {},
   "number_sections": false,
   "sideBar": true,
   "skip_h1_title": false,
   "title_cell": "Table of Contents",
   "title_sidebar": "Contents",
   "toc_cell": true,
   "toc_position": {},
   "toc_section_display": true,
   "toc_window_display": false
  }
 },
 "nbformat": 4,
 "nbformat_minor": 2
}
